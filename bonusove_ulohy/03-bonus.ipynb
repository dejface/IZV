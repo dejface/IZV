{
 "metadata": {
  "language_info": {
   "codemirror_mode": {
    "name": "ipython",
    "version": 3
   },
   "file_extension": ".py",
   "mimetype": "text/x-python",
   "name": "python",
   "nbconvert_exporter": "python",
   "pygments_lexer": "ipython3",
   "version": "3.8.5-final"
  },
  "orig_nbformat": 2,
  "kernelspec": {
   "name": "Python 3.8.5 64-bit",
   "display_name": "Python 3.8.5 64-bit",
   "metadata": {
    "interpreter": {
     "hash": "b0a771ae0125a6bef2d17a470013111f4e98fbf72d668732c031de0e1e6865ea"
    }
   }
  }
 },
 "nbformat": 4,
 "nbformat_minor": 2,
 "cells": [
  {
   "source": [
    "## Bonusový úkol č. 2 - stahování dat z webového zdroje\n",
    "Vytvořte funkci **sync()**, která získá kompletní seznam produktů (tj. včetně dalších stránek) dostupných v kategorii\n",
    "https://www.alza.cz/bezzrcadlovky-bez-objektivu/18863907.htm\n",
    "a u každého produktu zjistí jeho aktuální cenu a stav skladu.\n",
    "Funkce bude uchovávat získané informace a historii změn v relační databázi SQLLite3 obsahující dvě tabulky:  \n",
    "* tabulku `products` a  \n",
    "* tabulku `products_history`.\n",
    "\n",
    "Struktura obou tabulek je shodná a obsahuje následující sloupce:  \n",
    "* `id` TEXT - id produktu, např. OS072i1l1 (viz data-impression-id),  \n",
    "* `url` TEXT - url produktu k kterému se vztahuje cena (pouze část path, viz ukázka na konci),  \n",
    "* `title` TEXT - název produktu,  \n",
    "* `price` DECIMAL - cena produktu s DPH k danému datu,   \n",
    "* `stock_state` TEXT - stav skladu k danému datu,  \n",
    "* `last_update` DATETIME - datum poslední změny hodnot záznamu v UTC  \n",
    "\n",
    "Do tabulky `products_history` zkopírujte záznam z tabulky `products` ve chvíli, kdy se změnil nějaký sledovaný údaj (název, cena nebo stav skladu) a je potřeba aktualizovat data v tabulce `products`. Pozor, jedno `id` může mít více variant `url` s různou cenou. Při opětovném volání funkce **sync()** se prověří existence záznamu v `products`, prověří se shoda hodnot a vždy aktualizuje hodnota `last_update`, aby bylo zřejmé, ke kterému datu je informace platná.\n",
    "\n",
    "**Předpokládaná náročnost**: 1 hodina"
   ],
   "cell_type": "markdown",
   "metadata": {}
  },
  {
   "source": [
    "### Závislosti, načtení knihoven\n",
    "\n",
    "V následující buňce deklarujte všechny závislosti"
   ],
   "cell_type": "markdown",
   "metadata": {}
  },
  {
   "cell_type": "code",
   "execution_count": 1,
   "metadata": {},
   "outputs": [
    {
     "output_type": "stream",
     "name": "stdout",
     "text": [
      "Requirement already satisfied: requests in c:\\users\\orave\\appdata\\local\\programs\\python\\python38\\lib\\site-packages (2.24.0)\n",
      "Requirement already satisfied: requests_cache in c:\\users\\orave\\appdata\\local\\programs\\python\\python38\\lib\\site-packages (0.5.2)\n",
      "Requirement already satisfied: bs4 in c:\\users\\orave\\appdata\\local\\programs\\python\\python38\\lib\\site-packages (0.0.1)\n",
      "Requirement already satisfied: urllib3!=1.25.0,!=1.25.1,<1.26,>=1.21.1 in c:\\users\\orave\\appdata\\local\\programs\\python\\python38\\lib\\site-packages (from requests) (1.25.10)\n",
      "Requirement already satisfied: chardet<4,>=3.0.2 in c:\\users\\orave\\appdata\\local\\programs\\python\\python38\\lib\\site-packages (from requests) (3.0.4)\n",
      "Requirement already satisfied: certifi>=2017.4.17 in c:\\users\\orave\\appdata\\local\\programs\\python\\python38\\lib\\site-packages (from requests) (2020.6.20)\n",
      "Note: you may need to restart the kernel to use updated packages.\n",
      "Requirement already satisfied: idna<3,>=2.5 in c:\\users\\orave\\appdata\\local\\programs\\python\\python38\\lib\\site-packages (from requests) (2.10)\n",
      "Requirement already satisfied: beautifulsoup4 in c:\\users\\orave\\appdata\\local\\programs\\python\\python38\\lib\\site-packages (from bs4) (4.9.3)\n",
      "Requirement already satisfied: soupsieve>1.2; python_version >= \"3.0\" in c:\\users\\orave\\appdata\\local\\programs\\python\\python38\\lib\\site-packages (from beautifulsoup4->bs4) (2.0.1)\n",
      "WARNING: You are using pip version 20.1.1; however, version 20.2.3 is available.\n",
      "You should consider upgrading via the 'C:\\Users\\orave\\AppData\\Local\\Programs\\Python\\Python38\\python.exe -m pip install --upgrade pip' command.\n"
     ]
    }
   ],
   "source": [
    "%pip install requests requests_cache bs4\n",
    "\n",
    "import requests, requests_cache, sqlite3, random, datetime\n",
    "from bs4 import BeautifulSoup\n",
    "\n",
    "#pro vývoj je vhodné zapnout cache (viz přednáška), pro finalní otestovaní tento řádek zakomentujte\n",
    "#requests_cache.install_cache('devel') \n",
    "\n",
    "#nadeklarujeme si novy typ sloupce DECIMAL do sqlite3, abychom měli automatický převod mezi SQLite3 a Python\n",
    "from decimal import Decimal\n",
    "sqlite3.register_adapter(Decimal, lambda d: str(d))\n",
    "sqlite3.register_converter(\"DECIMAL\", lambda s: Decimal(s.decode('ascii')))"
   ]
  },
  {
   "source": [
    "### Deklarace funkce\n",
    "\n",
    "V následujícím boxu definujte funkci **sync(name)** s jedním parametrem (název souboru s DB), která provede zadanou operaci. \n",
    "Pro přístup k DB lze s ohledem na složitost zadání použít přímo funkcionalitu vestavěného modulu sqlite3 (viz https://docs.python.org/2/library/sqlite3.html).\n",
    "\n",
    "**TIP**: pro získání seznamu všech produktů lze použít endpoint https://www.alza.cz/Services/EShopService.svc/Filter\n",
    "\n",
    "Mohlo by se také hodit: https://curl.trillworks.com/"
   ],
   "cell_type": "markdown",
   "metadata": {}
  },
  {
   "cell_type": "code",
   "execution_count": 2,
   "metadata": {},
   "outputs": [],
   "source": [
    "# V tomto boxu pouze implementujte funkci ale nevolejte ji (pro vývoj si vytvořte vlastní buňky).\n",
    "# nezapomeňte na cookies a hlavičky, jinak se Vám může zobrazit otázka \"nejste robot?\"\n",
    "def sync(dbfile='data.sqlite'):\n",
    "    with sqlite3.connect(dbfile, detect_types=sqlite3.PARSE_DECLTYPES) as conn:\n",
    "        c = conn.cursor()\n",
    "        c.execute('''CREATE TABLE IF NOT EXISTS products\n",
    "                  (id TEXT, url TEXT, title TEXT, price DECIMAL, stock_state TEXT, last_update DATETIME, PRIMARY KEY(id,url))''')\n",
    "        \n",
    "        c.execute('''CREATE TABLE IF NOT EXISTS products_history\n",
    "                  (id TEXT, url TEXT, title TEXT, price DECIMAL, stock_state TEXT, last_update DATETIME)''')\n",
    "\n",
    "        c.execute('''CREATE INDEX IF NOT EXISTS idx_id ON products (id)''')\n",
    "        c.execute('''CREATE INDEX IF NOT EXISTS idx_idurl ON products_history (id, url)''')\n",
    "\n",
    "        s = requests.session()\n",
    "        \n",
    "        req = requests.post('https://www.alza.cz/Services/EShopService.svc/Filter', json={\n",
    "         'idCategory': 18863907, \n",
    "         'producers': '', \n",
    "         'parameters': [], \n",
    "         'idPrefix': 0, \n",
    "         'prefixType': 0, \n",
    "         'page': 1, \n",
    "         'pageTo': 4, \n",
    "         'inStock': False, \n",
    "         'newsOnly': False, \n",
    "         'commodityStatusType': None, \n",
    "         'upperDescriptionStatus': 0, \n",
    "         'branchId': -2, \n",
    "         'sort': 0, \n",
    "         'categoryType': 1, \n",
    "         'searchTerm': '', \n",
    "         'sendProducers': False, \n",
    "         'layout': 0, \n",
    "         'append': False, \n",
    "         'leasingCatId': None, \n",
    "         'yearFrom': None, \n",
    "         'yearTo': None, \n",
    "         'artistId': None, \n",
    "         'minPrice': -1, \n",
    "         'maxPrice': -1, \n",
    "         'shouldDisplayVirtooal': False, \n",
    "         'callFromParametrizationDialog': False, \n",
    "         'commodityWearType': None, \n",
    "         'scroll': 15444.7998046875, \n",
    "         'hash': '#f&cst=null&cud=0&pg=1-4&prod=', \n",
    "         'counter': 3\n",
    "        })\n",
    "\n",
    "        raw_json = req.json()\n",
    "        html = raw_json['d']['Boxes']\n",
    "\n",
    "        soup = BeautifulSoup(html)\n",
    "\n",
    "\n",
    "        for item in soup.find_all('a', {'class':'name browsinglink'}):\n",
    "            if item.get('data-impression-id') is not None:\n",
    "                item_id = item.get('data-impression-id')\n",
    "                item_title = item.get('data-impression-name')\n",
    "                item_url = item.get('href')\n",
    "                item_price = item.get('data-impression-metric2')\n",
    "                item_price = float(item_price.replace(',','.'))\n",
    "                item_stock_state = item.get('data-impression-dimension13')\n",
    "                item_last_update = datetime.datetime.now()        \n",
    "                try:\n",
    "                    c.execute(''' INSERT INTO products VALUES(?,?,?,?,?,?) ''',(item_id, item_url, item_title, Decimal(item_price), item_stock_state, item_last_update))\n",
    "\n",
    "                    c.execute(''' INSERT INTO products_history VALUES(?,?,?,?,?,?) ''',(item_id, item_url, item_title, Decimal(item_price),item_stock_state, item_last_update))\n",
    "                except:\n",
    "                    c.execute('SELECT * FROM products WHERE id=? AND url=?',(item_id, item_url))\n",
    "                    row = c.fetchall()\n",
    "                    for r in row:\n",
    "                        if r[2] != item_title:\n",
    "                            c.execute(f'''UPDATE products_history SET title=\"{r[2]}\", price=\"{r[3]}\", stock_state=\"{r[4]}\", last_update=\"{r[5]}\" where id=\"{r[0]}\" and url=\"{r[1]}\"''')\n",
    "                            c.execute('''UPDATE products SET title=? where id=? and url=?''',(item_title,r[0],r[1]))\n",
    "                        if r[3] != Decimal(item_price):\n",
    "                            c.execute(f'''UPDATE products_history SET title=\"{r[2]}\", price=\"{r[3]}\", stock_state=\"{r[4]}\", last_update=\"{r[5]}\" where id=\"{r[0]}\" and url=\"{r[1]}\"''')\n",
    "                            c.execute('''UPDATE products SET price=? where id=? and url=?''',(Decimal(item_price),r[0],r[1]))\n",
    "                        if r[4] != item_stock_state:\n",
    "                            c.execute(f'''UPDATE products_history SET title=\"{r[2]}\", price=\"{r[3]}\", stock_state=\"{r[4]}\", last_update=\"{r[5]}\" where id=\"{r[0]}\" and url=\"{r[1]}\"''')\n",
    "                            c.execute('''UPDATE products SET stock_state=? where id=? and url=?''',(item_stock_state,r[0],r[1]))\n",
    "                        if r[5] != item_last_update:\n",
    "                            c.execute('''UPDATE products SET last_update=? where id=? and url=?''',(item_last_update,r[0],r[1]))\n",
    "\n",
    "        conn.commit()        \n",
    "        c.close()"
   ]
  },
  {
   "source": [
    "### Ověření korektní funkce\n",
    "\n",
    "Na následujícím kódu lze ověřit základní funkcionalitu. Měly byste dostat stejný výstup jako je v ukázce. Protože se však stav e-shopu může měnit, uzpůsobte si eventuelně dotaz dle potřeb. Momentálně se testuje existence produktu https://www.alza.cz/sony-alpha-7ii?dq=2286288 ev. \n",
    "https://www.alza.cz/kod/OS072i1p5.\n",
    "\n",
    "Při ověřování korektní funkce Vaší implementace bude porovnán obsah DB vytvořený Vaší funkcí s předpokládaným obsahem DB v určitou dobu a poté znovu s několika hodinovým odstupem."
   ],
   "cell_type": "markdown",
   "metadata": {}
  },
  {
   "cell_type": "code",
   "execution_count": 5,
   "metadata": {},
   "outputs": [
    {
     "output_type": "stream",
     "name": "stdout",
     "text": [
      "('OS072i1p5', '/sony-alpha-7ii?dq=2286288', Decimal('31490'))\n[('OF7032a', '/fujifilm-x-t3?dq=5457426', Decimal('39990')), ('OF7032a', '/fujifilm-x-t3-telo-cerny-levne-d5754350.htm', Decimal('36989.7')), ('OF7032a', '/fujifilm-x-t3-telo-cerny-sleva-d5877920.htm', Decimal('33990.11'))]\nOK\n"
     ]
    }
   ],
   "source": [
    "from contextlib import closing\n",
    "\n",
    "sync('data.sqlite')\n",
    "\n",
    "with sqlite3.connect('data.sqlite', detect_types=sqlite3.PARSE_DECLTYPES) as conn:\n",
    "    with closing(conn.cursor()) as c:\n",
    "        c.execute('SELECT id, url, price FROM products WHERE id=? AND url=? AND price>20000', ('OS072i1p5','/sony-alpha-7ii?dq=2286288'))\n",
    "        r = c.fetchone()\n",
    "        print(r)\n",
    "        assert(r != None)\n",
    "\n",
    "        c.execute('SELECT id, url, price FROM products WHERE id=? AND price>30000', ('OF7032a',))\n",
    "        r = c.fetchall()\n",
    "        print(r)\n",
    "        assert (len(r)>0 and '/fujifilm-x-t3?dq=5457426' in [a[1] for a in r])\n",
    "\n",
    "print(\"OK\")        "
   ]
  },
  {
   "source": [
    "### Komentář\n",
    "Do pole níže můžete vložit textový komentář týkající se tohoto úkolu. Např. jak dlouho Vám trvalo řešení, co bylo obtížné, co bylo se mělo více v rámci přenášky vysvětlit apod."
   ],
   "cell_type": "markdown",
   "metadata": {}
  },
  {
   "source": [
    "Úloha mi trvala trošku dlhšie ako bol predpokladaný odhad. Zabralo mi to okolo 8 hodín. Dlhšie trvalo zorientovanie sa v úlohe, čo sa po mne chce atď. Parsing jednotlivých atribútov už potom bola rýchla záležitosť, ale narazil som na SQL s ktorým nie sme až taký dobrí kamaráti, ale to je moja chyba. V rámci prednášky bolo viac menej povedané všetko potrebné. Niektoré veci neboli prebraté do hĺbky, ale informácie sa dali dohľadať."
   ],
   "cell_type": "markdown",
   "metadata": {}
  }
 ]
}